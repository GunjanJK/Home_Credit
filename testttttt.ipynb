{
 "cells": [
  {
   "cell_type": "code",
   "execution_count": 1,
   "metadata": {},
   "outputs": [],
   "source": [
    "import pandas as pd\n",
    "import numpy as np"
   ]
  },
  {
   "cell_type": "code",
   "execution_count": 2,
   "metadata": {},
   "outputs": [],
   "source": [
    "data = pd.read_csv('application_train.csv')"
   ]
  },
  {
   "cell_type": "code",
   "execution_count": 3,
   "metadata": {},
   "outputs": [],
   "source": [
    "df = data.loc[:,['AMT_INCOME_TOTAL', 'AMT_CREDIT', 'AMT_ANNUITY', 'AMT_GOODS_PRICE',\n",
    "       'REGION_POPULATION_RELATIVE', 'DAYS_BIRTH', 'DAYS_EMPLOYED',\n",
    "       'DAYS_REGISTRATION', 'DAYS_ID_PUBLISH', 'OWN_CAR_AGE', 'EXT_SOURCE_1',\n",
    "       'EXT_SOURCE_2', 'EXT_SOURCE_3', 'YEARS_BEGINEXPLUATATION_AVG',\n",
    "       'COMMONAREA_AVG', 'LANDAREA_AVG', 'BASEMENTAREA_MODE',\n",
    "       'YEARS_BUILD_MODE', 'COMMONAREA_MODE', 'LANDAREA_MODE',\n",
    "       'LIVINGAREA_MODE', 'BASEMENTAREA_MEDI', 'COMMONAREA_MEDI',\n",
    "       'LANDAREA_MEDI', 'LIVINGAREA_MEDI', 'TOTALAREA_MODE',\n",
    "       'DAYS_LAST_PHONE_CHANGE','TARGET']]"
   ]
  },
  {
   "cell_type": "code",
   "execution_count": 4,
   "metadata": {},
   "outputs": [
    {
     "data": {
      "text/html": [
       "<div>\n",
       "<style scoped>\n",
       "    .dataframe tbody tr th:only-of-type {\n",
       "        vertical-align: middle;\n",
       "    }\n",
       "\n",
       "    .dataframe tbody tr th {\n",
       "        vertical-align: top;\n",
       "    }\n",
       "\n",
       "    .dataframe thead th {\n",
       "        text-align: right;\n",
       "    }\n",
       "</style>\n",
       "<table border=\"1\" class=\"dataframe\">\n",
       "  <thead>\n",
       "    <tr style=\"text-align: right;\">\n",
       "      <th></th>\n",
       "      <th>AMT_INCOME_TOTAL</th>\n",
       "      <th>AMT_CREDIT</th>\n",
       "      <th>AMT_ANNUITY</th>\n",
       "      <th>AMT_GOODS_PRICE</th>\n",
       "      <th>REGION_POPULATION_RELATIVE</th>\n",
       "      <th>DAYS_BIRTH</th>\n",
       "      <th>DAYS_EMPLOYED</th>\n",
       "      <th>DAYS_REGISTRATION</th>\n",
       "      <th>DAYS_ID_PUBLISH</th>\n",
       "      <th>OWN_CAR_AGE</th>\n",
       "      <th>...</th>\n",
       "      <th>COMMONAREA_MODE</th>\n",
       "      <th>LANDAREA_MODE</th>\n",
       "      <th>LIVINGAREA_MODE</th>\n",
       "      <th>BASEMENTAREA_MEDI</th>\n",
       "      <th>COMMONAREA_MEDI</th>\n",
       "      <th>LANDAREA_MEDI</th>\n",
       "      <th>LIVINGAREA_MEDI</th>\n",
       "      <th>TOTALAREA_MODE</th>\n",
       "      <th>DAYS_LAST_PHONE_CHANGE</th>\n",
       "      <th>TARGET</th>\n",
       "    </tr>\n",
       "  </thead>\n",
       "  <tbody>\n",
       "    <tr>\n",
       "      <th>0</th>\n",
       "      <td>202500.0</td>\n",
       "      <td>406597.5</td>\n",
       "      <td>24700.5</td>\n",
       "      <td>351000.0</td>\n",
       "      <td>0.018801</td>\n",
       "      <td>-9461</td>\n",
       "      <td>-637</td>\n",
       "      <td>-3648.0</td>\n",
       "      <td>-2120</td>\n",
       "      <td>NaN</td>\n",
       "      <td>...</td>\n",
       "      <td>0.0144</td>\n",
       "      <td>0.0377</td>\n",
       "      <td>0.0198</td>\n",
       "      <td>0.0369</td>\n",
       "      <td>0.0144</td>\n",
       "      <td>0.0375</td>\n",
       "      <td>0.0193</td>\n",
       "      <td>0.0149</td>\n",
       "      <td>-1134.0</td>\n",
       "      <td>1</td>\n",
       "    </tr>\n",
       "    <tr>\n",
       "      <th>1</th>\n",
       "      <td>270000.0</td>\n",
       "      <td>1293502.5</td>\n",
       "      <td>35698.5</td>\n",
       "      <td>1129500.0</td>\n",
       "      <td>0.003541</td>\n",
       "      <td>-16765</td>\n",
       "      <td>-1188</td>\n",
       "      <td>-1186.0</td>\n",
       "      <td>-291</td>\n",
       "      <td>NaN</td>\n",
       "      <td>...</td>\n",
       "      <td>0.0497</td>\n",
       "      <td>0.0128</td>\n",
       "      <td>0.0554</td>\n",
       "      <td>0.0529</td>\n",
       "      <td>0.0608</td>\n",
       "      <td>0.0132</td>\n",
       "      <td>0.0558</td>\n",
       "      <td>0.0714</td>\n",
       "      <td>-828.0</td>\n",
       "      <td>0</td>\n",
       "    </tr>\n",
       "    <tr>\n",
       "      <th>2</th>\n",
       "      <td>67500.0</td>\n",
       "      <td>135000.0</td>\n",
       "      <td>6750.0</td>\n",
       "      <td>135000.0</td>\n",
       "      <td>0.010032</td>\n",
       "      <td>-19046</td>\n",
       "      <td>-225</td>\n",
       "      <td>-4260.0</td>\n",
       "      <td>-2531</td>\n",
       "      <td>26.0</td>\n",
       "      <td>...</td>\n",
       "      <td>NaN</td>\n",
       "      <td>NaN</td>\n",
       "      <td>NaN</td>\n",
       "      <td>NaN</td>\n",
       "      <td>NaN</td>\n",
       "      <td>NaN</td>\n",
       "      <td>NaN</td>\n",
       "      <td>NaN</td>\n",
       "      <td>-815.0</td>\n",
       "      <td>0</td>\n",
       "    </tr>\n",
       "    <tr>\n",
       "      <th>3</th>\n",
       "      <td>135000.0</td>\n",
       "      <td>312682.5</td>\n",
       "      <td>29686.5</td>\n",
       "      <td>297000.0</td>\n",
       "      <td>0.008019</td>\n",
       "      <td>-19005</td>\n",
       "      <td>-3039</td>\n",
       "      <td>-9833.0</td>\n",
       "      <td>-2437</td>\n",
       "      <td>NaN</td>\n",
       "      <td>...</td>\n",
       "      <td>NaN</td>\n",
       "      <td>NaN</td>\n",
       "      <td>NaN</td>\n",
       "      <td>NaN</td>\n",
       "      <td>NaN</td>\n",
       "      <td>NaN</td>\n",
       "      <td>NaN</td>\n",
       "      <td>NaN</td>\n",
       "      <td>-617.0</td>\n",
       "      <td>0</td>\n",
       "    </tr>\n",
       "    <tr>\n",
       "      <th>4</th>\n",
       "      <td>121500.0</td>\n",
       "      <td>513000.0</td>\n",
       "      <td>21865.5</td>\n",
       "      <td>513000.0</td>\n",
       "      <td>0.028663</td>\n",
       "      <td>-19932</td>\n",
       "      <td>-3038</td>\n",
       "      <td>-4311.0</td>\n",
       "      <td>-3458</td>\n",
       "      <td>NaN</td>\n",
       "      <td>...</td>\n",
       "      <td>NaN</td>\n",
       "      <td>NaN</td>\n",
       "      <td>NaN</td>\n",
       "      <td>NaN</td>\n",
       "      <td>NaN</td>\n",
       "      <td>NaN</td>\n",
       "      <td>NaN</td>\n",
       "      <td>NaN</td>\n",
       "      <td>-1106.0</td>\n",
       "      <td>0</td>\n",
       "    </tr>\n",
       "  </tbody>\n",
       "</table>\n",
       "<p>5 rows × 28 columns</p>\n",
       "</div>"
      ],
      "text/plain": [
       "   AMT_INCOME_TOTAL  AMT_CREDIT  AMT_ANNUITY  AMT_GOODS_PRICE  \\\n",
       "0          202500.0    406597.5      24700.5         351000.0   \n",
       "1          270000.0   1293502.5      35698.5        1129500.0   \n",
       "2           67500.0    135000.0       6750.0         135000.0   \n",
       "3          135000.0    312682.5      29686.5         297000.0   \n",
       "4          121500.0    513000.0      21865.5         513000.0   \n",
       "\n",
       "   REGION_POPULATION_RELATIVE  DAYS_BIRTH  DAYS_EMPLOYED  DAYS_REGISTRATION  \\\n",
       "0                    0.018801       -9461           -637            -3648.0   \n",
       "1                    0.003541      -16765          -1188            -1186.0   \n",
       "2                    0.010032      -19046           -225            -4260.0   \n",
       "3                    0.008019      -19005          -3039            -9833.0   \n",
       "4                    0.028663      -19932          -3038            -4311.0   \n",
       "\n",
       "   DAYS_ID_PUBLISH  OWN_CAR_AGE   ...    COMMONAREA_MODE  LANDAREA_MODE  \\\n",
       "0            -2120          NaN   ...             0.0144         0.0377   \n",
       "1             -291          NaN   ...             0.0497         0.0128   \n",
       "2            -2531         26.0   ...                NaN            NaN   \n",
       "3            -2437          NaN   ...                NaN            NaN   \n",
       "4            -3458          NaN   ...                NaN            NaN   \n",
       "\n",
       "   LIVINGAREA_MODE  BASEMENTAREA_MEDI  COMMONAREA_MEDI  LANDAREA_MEDI  \\\n",
       "0           0.0198             0.0369           0.0144         0.0375   \n",
       "1           0.0554             0.0529           0.0608         0.0132   \n",
       "2              NaN                NaN              NaN            NaN   \n",
       "3              NaN                NaN              NaN            NaN   \n",
       "4              NaN                NaN              NaN            NaN   \n",
       "\n",
       "   LIVINGAREA_MEDI  TOTALAREA_MODE  DAYS_LAST_PHONE_CHANGE  TARGET  \n",
       "0           0.0193          0.0149                 -1134.0       1  \n",
       "1           0.0558          0.0714                  -828.0       0  \n",
       "2              NaN             NaN                  -815.0       0  \n",
       "3              NaN             NaN                  -617.0       0  \n",
       "4              NaN             NaN                 -1106.0       0  \n",
       "\n",
       "[5 rows x 28 columns]"
      ]
     },
     "execution_count": 4,
     "metadata": {},
     "output_type": "execute_result"
    }
   ],
   "source": [
    "df.head()"
   ]
  },
  {
   "cell_type": "code",
   "execution_count": 5,
   "metadata": {},
   "outputs": [
    {
     "data": {
      "text/plain": [
       "AMT_INCOME_TOTAL                    0\n",
       "AMT_CREDIT                          0\n",
       "AMT_ANNUITY                        12\n",
       "AMT_GOODS_PRICE                   278\n",
       "REGION_POPULATION_RELATIVE          0\n",
       "DAYS_BIRTH                          0\n",
       "DAYS_EMPLOYED                       0\n",
       "DAYS_REGISTRATION                   0\n",
       "DAYS_ID_PUBLISH                     0\n",
       "OWN_CAR_AGE                    202929\n",
       "EXT_SOURCE_1                   173378\n",
       "EXT_SOURCE_2                      660\n",
       "EXT_SOURCE_3                    60965\n",
       "YEARS_BEGINEXPLUATATION_AVG    150007\n",
       "COMMONAREA_AVG                 214865\n",
       "LANDAREA_AVG                   182590\n",
       "BASEMENTAREA_MODE              179943\n",
       "YEARS_BUILD_MODE               204488\n",
       "COMMONAREA_MODE                214865\n",
       "LANDAREA_MODE                  182590\n",
       "LIVINGAREA_MODE                154350\n",
       "BASEMENTAREA_MEDI              179943\n",
       "COMMONAREA_MEDI                214865\n",
       "LANDAREA_MEDI                  182590\n",
       "LIVINGAREA_MEDI                154350\n",
       "TOTALAREA_MODE                 148431\n",
       "DAYS_LAST_PHONE_CHANGE              1\n",
       "TARGET                              0\n",
       "dtype: int64"
      ]
     },
     "execution_count": 5,
     "metadata": {},
     "output_type": "execute_result"
    }
   ],
   "source": [
    "df.isnull().sum()"
   ]
  },
  {
   "cell_type": "code",
   "execution_count": 6,
   "metadata": {},
   "outputs": [
    {
     "data": {
      "text/plain": [
       "(307511, 28)"
      ]
     },
     "execution_count": 6,
     "metadata": {},
     "output_type": "execute_result"
    }
   ],
   "source": [
    "df.shape"
   ]
  },
  {
   "cell_type": "code",
   "execution_count": 7,
   "metadata": {
    "scrolled": true
   },
   "outputs": [
    {
     "data": {
      "text/html": [
       "<div>\n",
       "<style scoped>\n",
       "    .dataframe tbody tr th:only-of-type {\n",
       "        vertical-align: middle;\n",
       "    }\n",
       "\n",
       "    .dataframe tbody tr th {\n",
       "        vertical-align: top;\n",
       "    }\n",
       "\n",
       "    .dataframe thead th {\n",
       "        text-align: right;\n",
       "    }\n",
       "</style>\n",
       "<table border=\"1\" class=\"dataframe\">\n",
       "  <thead>\n",
       "    <tr style=\"text-align: right;\">\n",
       "      <th></th>\n",
       "      <th>AMT_INCOME_TOTAL</th>\n",
       "      <th>AMT_CREDIT</th>\n",
       "      <th>AMT_ANNUITY</th>\n",
       "      <th>AMT_GOODS_PRICE</th>\n",
       "      <th>REGION_POPULATION_RELATIVE</th>\n",
       "      <th>DAYS_BIRTH</th>\n",
       "      <th>DAYS_EMPLOYED</th>\n",
       "      <th>DAYS_REGISTRATION</th>\n",
       "      <th>DAYS_ID_PUBLISH</th>\n",
       "      <th>OWN_CAR_AGE</th>\n",
       "      <th>...</th>\n",
       "      <th>COMMONAREA_MODE</th>\n",
       "      <th>LANDAREA_MODE</th>\n",
       "      <th>LIVINGAREA_MODE</th>\n",
       "      <th>BASEMENTAREA_MEDI</th>\n",
       "      <th>COMMONAREA_MEDI</th>\n",
       "      <th>LANDAREA_MEDI</th>\n",
       "      <th>LIVINGAREA_MEDI</th>\n",
       "      <th>TOTALAREA_MODE</th>\n",
       "      <th>DAYS_LAST_PHONE_CHANGE</th>\n",
       "      <th>TARGET</th>\n",
       "    </tr>\n",
       "  </thead>\n",
       "  <tbody>\n",
       "    <tr>\n",
       "      <th>AMT_INCOME_TOTAL</th>\n",
       "      <td>1.000000</td>\n",
       "      <td>0.156870</td>\n",
       "      <td>0.191657</td>\n",
       "      <td>0.159610</td>\n",
       "      <td>0.074796</td>\n",
       "      <td>0.027261</td>\n",
       "      <td>-0.064223</td>\n",
       "      <td>0.027805</td>\n",
       "      <td>0.008506</td>\n",
       "      <td>-0.117273</td>\n",
       "      <td>...</td>\n",
       "      <td>0.075625</td>\n",
       "      <td>-0.003674</td>\n",
       "      <td>0.034915</td>\n",
       "      <td>0.016381</td>\n",
       "      <td>0.087918</td>\n",
       "      <td>-0.001892</td>\n",
       "      <td>0.039261</td>\n",
       "      <td>0.041985</td>\n",
       "      <td>-0.018585</td>\n",
       "      <td>-0.003982</td>\n",
       "    </tr>\n",
       "    <tr>\n",
       "      <th>AMT_CREDIT</th>\n",
       "      <td>0.156870</td>\n",
       "      <td>1.000000</td>\n",
       "      <td>0.770138</td>\n",
       "      <td>0.986968</td>\n",
       "      <td>0.099738</td>\n",
       "      <td>-0.055436</td>\n",
       "      <td>-0.066838</td>\n",
       "      <td>0.009621</td>\n",
       "      <td>-0.006575</td>\n",
       "      <td>-0.094191</td>\n",
       "      <td>...</td>\n",
       "      <td>0.042341</td>\n",
       "      <td>0.002532</td>\n",
       "      <td>0.064142</td>\n",
       "      <td>0.037281</td>\n",
       "      <td>0.048565</td>\n",
       "      <td>0.005415</td>\n",
       "      <td>0.070860</td>\n",
       "      <td>0.072818</td>\n",
       "      <td>-0.073701</td>\n",
       "      <td>-0.030369</td>\n",
       "    </tr>\n",
       "    <tr>\n",
       "      <th>AMT_ANNUITY</th>\n",
       "      <td>0.191657</td>\n",
       "      <td>0.770138</td>\n",
       "      <td>1.000000</td>\n",
       "      <td>0.775109</td>\n",
       "      <td>0.118429</td>\n",
       "      <td>0.009445</td>\n",
       "      <td>-0.104332</td>\n",
       "      <td>0.038514</td>\n",
       "      <td>0.011268</td>\n",
       "      <td>-0.097057</td>\n",
       "      <td>...</td>\n",
       "      <td>0.049074</td>\n",
       "      <td>0.003621</td>\n",
       "      <td>0.079426</td>\n",
       "      <td>0.042452</td>\n",
       "      <td>0.056865</td>\n",
       "      <td>0.007711</td>\n",
       "      <td>0.088134</td>\n",
       "      <td>0.090415</td>\n",
       "      <td>-0.063747</td>\n",
       "      <td>-0.012817</td>\n",
       "    </tr>\n",
       "    <tr>\n",
       "      <th>AMT_GOODS_PRICE</th>\n",
       "      <td>0.159610</td>\n",
       "      <td>0.986968</td>\n",
       "      <td>0.775109</td>\n",
       "      <td>1.000000</td>\n",
       "      <td>0.103520</td>\n",
       "      <td>-0.053442</td>\n",
       "      <td>-0.064842</td>\n",
       "      <td>0.011565</td>\n",
       "      <td>-0.009267</td>\n",
       "      <td>-0.103733</td>\n",
       "      <td>...</td>\n",
       "      <td>0.043086</td>\n",
       "      <td>0.009379</td>\n",
       "      <td>0.069324</td>\n",
       "      <td>0.041980</td>\n",
       "      <td>0.049519</td>\n",
       "      <td>0.012550</td>\n",
       "      <td>0.076028</td>\n",
       "      <td>0.077527</td>\n",
       "      <td>-0.076313</td>\n",
       "      <td>-0.039645</td>\n",
       "    </tr>\n",
       "    <tr>\n",
       "      <th>REGION_POPULATION_RELATIVE</th>\n",
       "      <td>0.074796</td>\n",
       "      <td>0.099738</td>\n",
       "      <td>0.118429</td>\n",
       "      <td>0.103520</td>\n",
       "      <td>1.000000</td>\n",
       "      <td>-0.029582</td>\n",
       "      <td>-0.003980</td>\n",
       "      <td>-0.053820</td>\n",
       "      <td>-0.003993</td>\n",
       "      <td>-0.081429</td>\n",
       "      <td>...</td>\n",
       "      <td>0.130931</td>\n",
       "      <td>-0.060558</td>\n",
       "      <td>0.180932</td>\n",
       "      <td>0.094075</td>\n",
       "      <td>0.160275</td>\n",
       "      <td>-0.052547</td>\n",
       "      <td>0.209347</td>\n",
       "      <td>0.202145</td>\n",
       "      <td>-0.044013</td>\n",
       "      <td>-0.037227</td>\n",
       "    </tr>\n",
       "    <tr>\n",
       "      <th>DAYS_BIRTH</th>\n",
       "      <td>0.027261</td>\n",
       "      <td>-0.055436</td>\n",
       "      <td>0.009445</td>\n",
       "      <td>-0.053442</td>\n",
       "      <td>-0.029582</td>\n",
       "      <td>1.000000</td>\n",
       "      <td>-0.615864</td>\n",
       "      <td>0.331912</td>\n",
       "      <td>0.272691</td>\n",
       "      <td>0.005761</td>\n",
       "      <td>...</td>\n",
       "      <td>0.009649</td>\n",
       "      <td>0.003800</td>\n",
       "      <td>-0.000020</td>\n",
       "      <td>-0.004345</td>\n",
       "      <td>0.009177</td>\n",
       "      <td>0.003341</td>\n",
       "      <td>0.000100</td>\n",
       "      <td>0.001329</td>\n",
       "      <td>0.082939</td>\n",
       "      <td>0.078239</td>\n",
       "    </tr>\n",
       "    <tr>\n",
       "      <th>DAYS_EMPLOYED</th>\n",
       "      <td>-0.064223</td>\n",
       "      <td>-0.066838</td>\n",
       "      <td>-0.104332</td>\n",
       "      <td>-0.064842</td>\n",
       "      <td>-0.003980</td>\n",
       "      <td>-0.615864</td>\n",
       "      <td>1.000000</td>\n",
       "      <td>-0.210242</td>\n",
       "      <td>-0.272378</td>\n",
       "      <td>0.028830</td>\n",
       "      <td>...</td>\n",
       "      <td>-0.013041</td>\n",
       "      <td>-0.008758</td>\n",
       "      <td>-0.010847</td>\n",
       "      <td>-0.001535</td>\n",
       "      <td>-0.013008</td>\n",
       "      <td>-0.009627</td>\n",
       "      <td>-0.012631</td>\n",
       "      <td>-0.015126</td>\n",
       "      <td>0.023032</td>\n",
       "      <td>-0.044932</td>\n",
       "    </tr>\n",
       "    <tr>\n",
       "      <th>DAYS_REGISTRATION</th>\n",
       "      <td>0.027805</td>\n",
       "      <td>0.009621</td>\n",
       "      <td>0.038514</td>\n",
       "      <td>0.011565</td>\n",
       "      <td>-0.053820</td>\n",
       "      <td>0.331912</td>\n",
       "      <td>-0.210242</td>\n",
       "      <td>1.000000</td>\n",
       "      <td>0.101896</td>\n",
       "      <td>-0.025991</td>\n",
       "      <td>...</td>\n",
       "      <td>0.029172</td>\n",
       "      <td>0.003354</td>\n",
       "      <td>0.007457</td>\n",
       "      <td>-0.021504</td>\n",
       "      <td>0.029250</td>\n",
       "      <td>0.002968</td>\n",
       "      <td>0.007926</td>\n",
       "      <td>0.019495</td>\n",
       "      <td>0.056983</td>\n",
       "      <td>0.041975</td>\n",
       "    </tr>\n",
       "    <tr>\n",
       "      <th>DAYS_ID_PUBLISH</th>\n",
       "      <td>0.008506</td>\n",
       "      <td>-0.006575</td>\n",
       "      <td>0.011268</td>\n",
       "      <td>-0.009267</td>\n",
       "      <td>-0.003993</td>\n",
       "      <td>0.272691</td>\n",
       "      <td>-0.272378</td>\n",
       "      <td>0.101896</td>\n",
       "      <td>1.000000</td>\n",
       "      <td>0.008633</td>\n",
       "      <td>...</td>\n",
       "      <td>-0.000012</td>\n",
       "      <td>-0.008026</td>\n",
       "      <td>-0.012096</td>\n",
       "      <td>-0.014129</td>\n",
       "      <td>0.000372</td>\n",
       "      <td>-0.007634</td>\n",
       "      <td>-0.011315</td>\n",
       "      <td>-0.011153</td>\n",
       "      <td>0.088576</td>\n",
       "      <td>0.051457</td>\n",
       "    </tr>\n",
       "    <tr>\n",
       "      <th>OWN_CAR_AGE</th>\n",
       "      <td>-0.117273</td>\n",
       "      <td>-0.094191</td>\n",
       "      <td>-0.097057</td>\n",
       "      <td>-0.103733</td>\n",
       "      <td>-0.081429</td>\n",
       "      <td>0.005761</td>\n",
       "      <td>0.028830</td>\n",
       "      <td>-0.025991</td>\n",
       "      <td>0.008633</td>\n",
       "      <td>1.000000</td>\n",
       "      <td>...</td>\n",
       "      <td>-0.030161</td>\n",
       "      <td>-0.019343</td>\n",
       "      <td>-0.055302</td>\n",
       "      <td>-0.032011</td>\n",
       "      <td>-0.035066</td>\n",
       "      <td>-0.021645</td>\n",
       "      <td>-0.059040</td>\n",
       "      <td>-0.061298</td>\n",
       "      <td>0.002506</td>\n",
       "      <td>0.037612</td>\n",
       "    </tr>\n",
       "    <tr>\n",
       "      <th>EXT_SOURCE_1</th>\n",
       "      <td>0.026232</td>\n",
       "      <td>0.168429</td>\n",
       "      <td>0.119398</td>\n",
       "      <td>0.175502</td>\n",
       "      <td>0.099997</td>\n",
       "      <td>-0.600610</td>\n",
       "      <td>0.289848</td>\n",
       "      <td>-0.181095</td>\n",
       "      <td>-0.132375</td>\n",
       "      <td>-0.083411</td>\n",
       "      <td>...</td>\n",
       "      <td>0.027538</td>\n",
       "      <td>0.002426</td>\n",
       "      <td>0.062046</td>\n",
       "      <td>0.039494</td>\n",
       "      <td>0.032147</td>\n",
       "      <td>0.004992</td>\n",
       "      <td>0.067111</td>\n",
       "      <td>0.066227</td>\n",
       "      <td>-0.132607</td>\n",
       "      <td>-0.155317</td>\n",
       "    </tr>\n",
       "    <tr>\n",
       "      <th>EXT_SOURCE_2</th>\n",
       "      <td>0.060925</td>\n",
       "      <td>0.131228</td>\n",
       "      <td>0.125804</td>\n",
       "      <td>0.139367</td>\n",
       "      <td>0.198924</td>\n",
       "      <td>-0.091996</td>\n",
       "      <td>-0.020767</td>\n",
       "      <td>-0.059913</td>\n",
       "      <td>-0.050955</td>\n",
       "      <td>-0.080753</td>\n",
       "      <td>...</td>\n",
       "      <td>0.044244</td>\n",
       "      <td>0.017314</td>\n",
       "      <td>0.086026</td>\n",
       "      <td>0.046951</td>\n",
       "      <td>0.052269</td>\n",
       "      <td>0.021227</td>\n",
       "      <td>0.096082</td>\n",
       "      <td>0.094687</td>\n",
       "      <td>-0.195764</td>\n",
       "      <td>-0.160472</td>\n",
       "    </tr>\n",
       "    <tr>\n",
       "      <th>EXT_SOURCE_3</th>\n",
       "      <td>-0.030229</td>\n",
       "      <td>0.043516</td>\n",
       "      <td>0.030752</td>\n",
       "      <td>0.047717</td>\n",
       "      <td>-0.006001</td>\n",
       "      <td>-0.205478</td>\n",
       "      <td>0.113434</td>\n",
       "      <td>-0.107549</td>\n",
       "      <td>-0.131597</td>\n",
       "      <td>-0.014604</td>\n",
       "      <td>...</td>\n",
       "      <td>-0.002645</td>\n",
       "      <td>0.009398</td>\n",
       "      <td>0.005437</td>\n",
       "      <td>0.009349</td>\n",
       "      <td>-0.003321</td>\n",
       "      <td>0.010725</td>\n",
       "      <td>0.005486</td>\n",
       "      <td>0.006232</td>\n",
       "      <td>-0.075256</td>\n",
       "      <td>-0.178919</td>\n",
       "    </tr>\n",
       "    <tr>\n",
       "      <th>YEARS_BEGINEXPLUATATION_AVG</th>\n",
       "      <td>0.005658</td>\n",
       "      <td>0.006249</td>\n",
       "      <td>0.013298</td>\n",
       "      <td>0.007245</td>\n",
       "      <td>-0.006683</td>\n",
       "      <td>0.000744</td>\n",
       "      <td>0.008629</td>\n",
       "      <td>0.011035</td>\n",
       "      <td>-0.003416</td>\n",
       "      <td>0.000418</td>\n",
       "      <td>...</td>\n",
       "      <td>0.086286</td>\n",
       "      <td>0.070008</td>\n",
       "      <td>0.089123</td>\n",
       "      <td>0.085256</td>\n",
       "      <td>0.091667</td>\n",
       "      <td>0.074067</td>\n",
       "      <td>0.092175</td>\n",
       "      <td>0.100319</td>\n",
       "      <td>0.002515</td>\n",
       "      <td>-0.009728</td>\n",
       "    </tr>\n",
       "    <tr>\n",
       "      <th>COMMONAREA_AVG</th>\n",
       "      <td>0.089616</td>\n",
       "      <td>0.049537</td>\n",
       "      <td>0.057628</td>\n",
       "      <td>0.050507</td>\n",
       "      <td>0.164806</td>\n",
       "      <td>0.008364</td>\n",
       "      <td>-0.012528</td>\n",
       "      <td>0.028300</td>\n",
       "      <td>0.000100</td>\n",
       "      <td>-0.035524</td>\n",
       "      <td>...</td>\n",
       "      <td>0.977147</td>\n",
       "      <td>0.244198</td>\n",
       "      <td>0.524186</td>\n",
       "      <td>0.404549</td>\n",
       "      <td>0.995978</td>\n",
       "      <td>0.258217</td>\n",
       "      <td>0.545501</td>\n",
       "      <td>0.553260</td>\n",
       "      <td>-0.003536</td>\n",
       "      <td>-0.018550</td>\n",
       "    </tr>\n",
       "    <tr>\n",
       "      <th>LANDAREA_AVG</th>\n",
       "      <td>-0.001598</td>\n",
       "      <td>0.006218</td>\n",
       "      <td>0.008611</td>\n",
       "      <td>0.013297</td>\n",
       "      <td>-0.051160</td>\n",
       "      <td>0.003013</td>\n",
       "      <td>-0.009609</td>\n",
       "      <td>0.003109</td>\n",
       "      <td>-0.007496</td>\n",
       "      <td>-0.021657</td>\n",
       "      <td>...</td>\n",
       "      <td>0.267294</td>\n",
       "      <td>0.973696</td>\n",
       "      <td>0.501797</td>\n",
       "      <td>0.469117</td>\n",
       "      <td>0.259076</td>\n",
       "      <td>0.991610</td>\n",
       "      <td>0.501050</td>\n",
       "      <td>0.491091</td>\n",
       "      <td>-0.000581</td>\n",
       "      <td>-0.010885</td>\n",
       "    </tr>\n",
       "    <tr>\n",
       "      <th>BASEMENTAREA_MODE</th>\n",
       "      <td>0.012821</td>\n",
       "      <td>0.031213</td>\n",
       "      <td>0.034443</td>\n",
       "      <td>0.035811</td>\n",
       "      <td>0.065779</td>\n",
       "      <td>-0.004319</td>\n",
       "      <td>-0.000243</td>\n",
       "      <td>-0.020011</td>\n",
       "      <td>-0.013192</td>\n",
       "      <td>-0.027320</td>\n",
       "      <td>...</td>\n",
       "      <td>0.407206</td>\n",
       "      <td>0.483333</td>\n",
       "      <td>0.690379</td>\n",
       "      <td>0.977938</td>\n",
       "      <td>0.390932</td>\n",
       "      <td>0.475090</td>\n",
       "      <td>0.673648</td>\n",
       "      <td>0.649274</td>\n",
       "      <td>-0.006389</td>\n",
       "      <td>-0.019952</td>\n",
       "    </tr>\n",
       "    <tr>\n",
       "      <th>YEARS_BUILD_MODE</th>\n",
       "      <td>0.037299</td>\n",
       "      <td>0.033478</td>\n",
       "      <td>0.030932</td>\n",
       "      <td>0.039410</td>\n",
       "      <td>-0.063779</td>\n",
       "      <td>0.025844</td>\n",
       "      <td>-0.005053</td>\n",
       "      <td>0.162744</td>\n",
       "      <td>-0.007169</td>\n",
       "      <td>-0.047274</td>\n",
       "      <td>...</td>\n",
       "      <td>0.227029</td>\n",
       "      <td>0.179273</td>\n",
       "      <td>0.345003</td>\n",
       "      <td>0.247907</td>\n",
       "      <td>0.230480</td>\n",
       "      <td>0.185102</td>\n",
       "      <td>0.353537</td>\n",
       "      <td>0.355718</td>\n",
       "      <td>0.011843</td>\n",
       "      <td>-0.022068</td>\n",
       "    </tr>\n",
       "    <tr>\n",
       "      <th>COMMONAREA_MODE</th>\n",
       "      <td>0.075625</td>\n",
       "      <td>0.042341</td>\n",
       "      <td>0.049074</td>\n",
       "      <td>0.043086</td>\n",
       "      <td>0.130931</td>\n",
       "      <td>0.009649</td>\n",
       "      <td>-0.013041</td>\n",
       "      <td>0.029172</td>\n",
       "      <td>-0.000012</td>\n",
       "      <td>-0.030161</td>\n",
       "      <td>...</td>\n",
       "      <td>1.000000</td>\n",
       "      <td>0.266000</td>\n",
       "      <td>0.537778</td>\n",
       "      <td>0.405356</td>\n",
       "      <td>0.979887</td>\n",
       "      <td>0.269723</td>\n",
       "      <td>0.538446</td>\n",
       "      <td>0.543141</td>\n",
       "      <td>-0.001678</td>\n",
       "      <td>-0.016340</td>\n",
       "    </tr>\n",
       "    <tr>\n",
       "      <th>LANDAREA_MODE</th>\n",
       "      <td>-0.003674</td>\n",
       "      <td>0.002532</td>\n",
       "      <td>0.003621</td>\n",
       "      <td>0.009379</td>\n",
       "      <td>-0.060558</td>\n",
       "      <td>0.003800</td>\n",
       "      <td>-0.008758</td>\n",
       "      <td>0.003354</td>\n",
       "      <td>-0.008026</td>\n",
       "      <td>-0.019343</td>\n",
       "      <td>...</td>\n",
       "      <td>0.266000</td>\n",
       "      <td>1.000000</td>\n",
       "      <td>0.512531</td>\n",
       "      <td>0.465139</td>\n",
       "      <td>0.247307</td>\n",
       "      <td>0.980835</td>\n",
       "      <td>0.492422</td>\n",
       "      <td>0.478382</td>\n",
       "      <td>-0.001111</td>\n",
       "      <td>-0.010174</td>\n",
       "    </tr>\n",
       "    <tr>\n",
       "      <th>LIVINGAREA_MODE</th>\n",
       "      <td>0.034915</td>\n",
       "      <td>0.064142</td>\n",
       "      <td>0.079426</td>\n",
       "      <td>0.069324</td>\n",
       "      <td>0.180932</td>\n",
       "      <td>-0.000020</td>\n",
       "      <td>-0.010847</td>\n",
       "      <td>0.007457</td>\n",
       "      <td>-0.012096</td>\n",
       "      <td>-0.055302</td>\n",
       "      <td>...</td>\n",
       "      <td>0.537778</td>\n",
       "      <td>0.512531</td>\n",
       "      <td>1.000000</td>\n",
       "      <td>0.680549</td>\n",
       "      <td>0.527076</td>\n",
       "      <td>0.505529</td>\n",
       "      <td>0.974743</td>\n",
       "      <td>0.899247</td>\n",
       "      <td>-0.009607</td>\n",
       "      <td>-0.030685</td>\n",
       "    </tr>\n",
       "    <tr>\n",
       "      <th>BASEMENTAREA_MEDI</th>\n",
       "      <td>0.016381</td>\n",
       "      <td>0.037281</td>\n",
       "      <td>0.042452</td>\n",
       "      <td>0.041980</td>\n",
       "      <td>0.094075</td>\n",
       "      <td>-0.004345</td>\n",
       "      <td>-0.001535</td>\n",
       "      <td>-0.021504</td>\n",
       "      <td>-0.014129</td>\n",
       "      <td>-0.032011</td>\n",
       "      <td>...</td>\n",
       "      <td>0.405356</td>\n",
       "      <td>0.465139</td>\n",
       "      <td>0.680549</td>\n",
       "      <td>1.000000</td>\n",
       "      <td>0.406662</td>\n",
       "      <td>0.471900</td>\n",
       "      <td>0.691401</td>\n",
       "      <td>0.669398</td>\n",
       "      <td>-0.007852</td>\n",
       "      <td>-0.022081</td>\n",
       "    </tr>\n",
       "    <tr>\n",
       "      <th>COMMONAREA_MEDI</th>\n",
       "      <td>0.087918</td>\n",
       "      <td>0.048565</td>\n",
       "      <td>0.056865</td>\n",
       "      <td>0.049519</td>\n",
       "      <td>0.160275</td>\n",
       "      <td>0.009177</td>\n",
       "      <td>-0.013008</td>\n",
       "      <td>0.029250</td>\n",
       "      <td>0.000372</td>\n",
       "      <td>-0.035066</td>\n",
       "      <td>...</td>\n",
       "      <td>0.979887</td>\n",
       "      <td>0.247307</td>\n",
       "      <td>0.527076</td>\n",
       "      <td>0.406662</td>\n",
       "      <td>1.000000</td>\n",
       "      <td>0.260587</td>\n",
       "      <td>0.548119</td>\n",
       "      <td>0.552578</td>\n",
       "      <td>-0.003212</td>\n",
       "      <td>-0.018573</td>\n",
       "    </tr>\n",
       "    <tr>\n",
       "      <th>LANDAREA_MEDI</th>\n",
       "      <td>-0.001892</td>\n",
       "      <td>0.005415</td>\n",
       "      <td>0.007711</td>\n",
       "      <td>0.012550</td>\n",
       "      <td>-0.052547</td>\n",
       "      <td>0.003341</td>\n",
       "      <td>-0.009627</td>\n",
       "      <td>0.002968</td>\n",
       "      <td>-0.007634</td>\n",
       "      <td>-0.021645</td>\n",
       "      <td>...</td>\n",
       "      <td>0.269723</td>\n",
       "      <td>0.980835</td>\n",
       "      <td>0.505529</td>\n",
       "      <td>0.471900</td>\n",
       "      <td>0.260587</td>\n",
       "      <td>1.000000</td>\n",
       "      <td>0.503890</td>\n",
       "      <td>0.492559</td>\n",
       "      <td>-0.001241</td>\n",
       "      <td>-0.011256</td>\n",
       "    </tr>\n",
       "    <tr>\n",
       "      <th>LIVINGAREA_MEDI</th>\n",
       "      <td>0.039261</td>\n",
       "      <td>0.070860</td>\n",
       "      <td>0.088134</td>\n",
       "      <td>0.076028</td>\n",
       "      <td>0.209347</td>\n",
       "      <td>0.000100</td>\n",
       "      <td>-0.012631</td>\n",
       "      <td>0.007926</td>\n",
       "      <td>-0.011315</td>\n",
       "      <td>-0.059040</td>\n",
       "      <td>...</td>\n",
       "      <td>0.538446</td>\n",
       "      <td>0.492422</td>\n",
       "      <td>0.974743</td>\n",
       "      <td>0.691401</td>\n",
       "      <td>0.548119</td>\n",
       "      <td>0.503890</td>\n",
       "      <td>1.000000</td>\n",
       "      <td>0.919363</td>\n",
       "      <td>-0.010795</td>\n",
       "      <td>-0.032739</td>\n",
       "    </tr>\n",
       "    <tr>\n",
       "      <th>TOTALAREA_MODE</th>\n",
       "      <td>0.041985</td>\n",
       "      <td>0.072818</td>\n",
       "      <td>0.090415</td>\n",
       "      <td>0.077527</td>\n",
       "      <td>0.202145</td>\n",
       "      <td>0.001329</td>\n",
       "      <td>-0.015126</td>\n",
       "      <td>0.019495</td>\n",
       "      <td>-0.011153</td>\n",
       "      <td>-0.061298</td>\n",
       "      <td>...</td>\n",
       "      <td>0.543141</td>\n",
       "      <td>0.478382</td>\n",
       "      <td>0.899247</td>\n",
       "      <td>0.669398</td>\n",
       "      <td>0.552578</td>\n",
       "      <td>0.492559</td>\n",
       "      <td>0.919363</td>\n",
       "      <td>1.000000</td>\n",
       "      <td>-0.008283</td>\n",
       "      <td>-0.032596</td>\n",
       "    </tr>\n",
       "    <tr>\n",
       "      <th>DAYS_LAST_PHONE_CHANGE</th>\n",
       "      <td>-0.018585</td>\n",
       "      <td>-0.073701</td>\n",
       "      <td>-0.063747</td>\n",
       "      <td>-0.076313</td>\n",
       "      <td>-0.044013</td>\n",
       "      <td>0.082939</td>\n",
       "      <td>0.023032</td>\n",
       "      <td>0.056983</td>\n",
       "      <td>0.088576</td>\n",
       "      <td>0.002506</td>\n",
       "      <td>...</td>\n",
       "      <td>-0.001678</td>\n",
       "      <td>-0.001111</td>\n",
       "      <td>-0.009607</td>\n",
       "      <td>-0.007852</td>\n",
       "      <td>-0.003212</td>\n",
       "      <td>-0.001241</td>\n",
       "      <td>-0.010795</td>\n",
       "      <td>-0.008283</td>\n",
       "      <td>1.000000</td>\n",
       "      <td>0.055218</td>\n",
       "    </tr>\n",
       "    <tr>\n",
       "      <th>TARGET</th>\n",
       "      <td>-0.003982</td>\n",
       "      <td>-0.030369</td>\n",
       "      <td>-0.012817</td>\n",
       "      <td>-0.039645</td>\n",
       "      <td>-0.037227</td>\n",
       "      <td>0.078239</td>\n",
       "      <td>-0.044932</td>\n",
       "      <td>0.041975</td>\n",
       "      <td>0.051457</td>\n",
       "      <td>0.037612</td>\n",
       "      <td>...</td>\n",
       "      <td>-0.016340</td>\n",
       "      <td>-0.010174</td>\n",
       "      <td>-0.030685</td>\n",
       "      <td>-0.022081</td>\n",
       "      <td>-0.018573</td>\n",
       "      <td>-0.011256</td>\n",
       "      <td>-0.032739</td>\n",
       "      <td>-0.032596</td>\n",
       "      <td>0.055218</td>\n",
       "      <td>1.000000</td>\n",
       "    </tr>\n",
       "  </tbody>\n",
       "</table>\n",
       "<p>28 rows × 28 columns</p>\n",
       "</div>"
      ],
      "text/plain": [
       "                             AMT_INCOME_TOTAL  AMT_CREDIT  AMT_ANNUITY  \\\n",
       "AMT_INCOME_TOTAL                     1.000000    0.156870     0.191657   \n",
       "AMT_CREDIT                           0.156870    1.000000     0.770138   \n",
       "AMT_ANNUITY                          0.191657    0.770138     1.000000   \n",
       "AMT_GOODS_PRICE                      0.159610    0.986968     0.775109   \n",
       "REGION_POPULATION_RELATIVE           0.074796    0.099738     0.118429   \n",
       "DAYS_BIRTH                           0.027261   -0.055436     0.009445   \n",
       "DAYS_EMPLOYED                       -0.064223   -0.066838    -0.104332   \n",
       "DAYS_REGISTRATION                    0.027805    0.009621     0.038514   \n",
       "DAYS_ID_PUBLISH                      0.008506   -0.006575     0.011268   \n",
       "OWN_CAR_AGE                         -0.117273   -0.094191    -0.097057   \n",
       "EXT_SOURCE_1                         0.026232    0.168429     0.119398   \n",
       "EXT_SOURCE_2                         0.060925    0.131228     0.125804   \n",
       "EXT_SOURCE_3                        -0.030229    0.043516     0.030752   \n",
       "YEARS_BEGINEXPLUATATION_AVG          0.005658    0.006249     0.013298   \n",
       "COMMONAREA_AVG                       0.089616    0.049537     0.057628   \n",
       "LANDAREA_AVG                        -0.001598    0.006218     0.008611   \n",
       "BASEMENTAREA_MODE                    0.012821    0.031213     0.034443   \n",
       "YEARS_BUILD_MODE                     0.037299    0.033478     0.030932   \n",
       "COMMONAREA_MODE                      0.075625    0.042341     0.049074   \n",
       "LANDAREA_MODE                       -0.003674    0.002532     0.003621   \n",
       "LIVINGAREA_MODE                      0.034915    0.064142     0.079426   \n",
       "BASEMENTAREA_MEDI                    0.016381    0.037281     0.042452   \n",
       "COMMONAREA_MEDI                      0.087918    0.048565     0.056865   \n",
       "LANDAREA_MEDI                       -0.001892    0.005415     0.007711   \n",
       "LIVINGAREA_MEDI                      0.039261    0.070860     0.088134   \n",
       "TOTALAREA_MODE                       0.041985    0.072818     0.090415   \n",
       "DAYS_LAST_PHONE_CHANGE              -0.018585   -0.073701    -0.063747   \n",
       "TARGET                              -0.003982   -0.030369    -0.012817   \n",
       "\n",
       "                             AMT_GOODS_PRICE  REGION_POPULATION_RELATIVE  \\\n",
       "AMT_INCOME_TOTAL                    0.159610                    0.074796   \n",
       "AMT_CREDIT                          0.986968                    0.099738   \n",
       "AMT_ANNUITY                         0.775109                    0.118429   \n",
       "AMT_GOODS_PRICE                     1.000000                    0.103520   \n",
       "REGION_POPULATION_RELATIVE          0.103520                    1.000000   \n",
       "DAYS_BIRTH                         -0.053442                   -0.029582   \n",
       "DAYS_EMPLOYED                      -0.064842                   -0.003980   \n",
       "DAYS_REGISTRATION                   0.011565                   -0.053820   \n",
       "DAYS_ID_PUBLISH                    -0.009267                   -0.003993   \n",
       "OWN_CAR_AGE                        -0.103733                   -0.081429   \n",
       "EXT_SOURCE_1                        0.175502                    0.099997   \n",
       "EXT_SOURCE_2                        0.139367                    0.198924   \n",
       "EXT_SOURCE_3                        0.047717                   -0.006001   \n",
       "YEARS_BEGINEXPLUATATION_AVG         0.007245                   -0.006683   \n",
       "COMMONAREA_AVG                      0.050507                    0.164806   \n",
       "LANDAREA_AVG                        0.013297                   -0.051160   \n",
       "BASEMENTAREA_MODE                   0.035811                    0.065779   \n",
       "YEARS_BUILD_MODE                    0.039410                   -0.063779   \n",
       "COMMONAREA_MODE                     0.043086                    0.130931   \n",
       "LANDAREA_MODE                       0.009379                   -0.060558   \n",
       "LIVINGAREA_MODE                     0.069324                    0.180932   \n",
       "BASEMENTAREA_MEDI                   0.041980                    0.094075   \n",
       "COMMONAREA_MEDI                     0.049519                    0.160275   \n",
       "LANDAREA_MEDI                       0.012550                   -0.052547   \n",
       "LIVINGAREA_MEDI                     0.076028                    0.209347   \n",
       "TOTALAREA_MODE                      0.077527                    0.202145   \n",
       "DAYS_LAST_PHONE_CHANGE             -0.076313                   -0.044013   \n",
       "TARGET                             -0.039645                   -0.037227   \n",
       "\n",
       "                             DAYS_BIRTH  DAYS_EMPLOYED  DAYS_REGISTRATION  \\\n",
       "AMT_INCOME_TOTAL               0.027261      -0.064223           0.027805   \n",
       "AMT_CREDIT                    -0.055436      -0.066838           0.009621   \n",
       "AMT_ANNUITY                    0.009445      -0.104332           0.038514   \n",
       "AMT_GOODS_PRICE               -0.053442      -0.064842           0.011565   \n",
       "REGION_POPULATION_RELATIVE    -0.029582      -0.003980          -0.053820   \n",
       "DAYS_BIRTH                     1.000000      -0.615864           0.331912   \n",
       "DAYS_EMPLOYED                 -0.615864       1.000000          -0.210242   \n",
       "DAYS_REGISTRATION              0.331912      -0.210242           1.000000   \n",
       "DAYS_ID_PUBLISH                0.272691      -0.272378           0.101896   \n",
       "OWN_CAR_AGE                    0.005761       0.028830          -0.025991   \n",
       "EXT_SOURCE_1                  -0.600610       0.289848          -0.181095   \n",
       "EXT_SOURCE_2                  -0.091996      -0.020767          -0.059913   \n",
       "EXT_SOURCE_3                  -0.205478       0.113434          -0.107549   \n",
       "YEARS_BEGINEXPLUATATION_AVG    0.000744       0.008629           0.011035   \n",
       "COMMONAREA_AVG                 0.008364      -0.012528           0.028300   \n",
       "LANDAREA_AVG                   0.003013      -0.009609           0.003109   \n",
       "BASEMENTAREA_MODE             -0.004319      -0.000243          -0.020011   \n",
       "YEARS_BUILD_MODE               0.025844      -0.005053           0.162744   \n",
       "COMMONAREA_MODE                0.009649      -0.013041           0.029172   \n",
       "LANDAREA_MODE                  0.003800      -0.008758           0.003354   \n",
       "LIVINGAREA_MODE               -0.000020      -0.010847           0.007457   \n",
       "BASEMENTAREA_MEDI             -0.004345      -0.001535          -0.021504   \n",
       "COMMONAREA_MEDI                0.009177      -0.013008           0.029250   \n",
       "LANDAREA_MEDI                  0.003341      -0.009627           0.002968   \n",
       "LIVINGAREA_MEDI                0.000100      -0.012631           0.007926   \n",
       "TOTALAREA_MODE                 0.001329      -0.015126           0.019495   \n",
       "DAYS_LAST_PHONE_CHANGE         0.082939       0.023032           0.056983   \n",
       "TARGET                         0.078239      -0.044932           0.041975   \n",
       "\n",
       "                             DAYS_ID_PUBLISH  OWN_CAR_AGE    ...     \\\n",
       "AMT_INCOME_TOTAL                    0.008506    -0.117273    ...      \n",
       "AMT_CREDIT                         -0.006575    -0.094191    ...      \n",
       "AMT_ANNUITY                         0.011268    -0.097057    ...      \n",
       "AMT_GOODS_PRICE                    -0.009267    -0.103733    ...      \n",
       "REGION_POPULATION_RELATIVE         -0.003993    -0.081429    ...      \n",
       "DAYS_BIRTH                          0.272691     0.005761    ...      \n",
       "DAYS_EMPLOYED                      -0.272378     0.028830    ...      \n",
       "DAYS_REGISTRATION                   0.101896    -0.025991    ...      \n",
       "DAYS_ID_PUBLISH                     1.000000     0.008633    ...      \n",
       "OWN_CAR_AGE                         0.008633     1.000000    ...      \n",
       "EXT_SOURCE_1                       -0.132375    -0.083411    ...      \n",
       "EXT_SOURCE_2                       -0.050955    -0.080753    ...      \n",
       "EXT_SOURCE_3                       -0.131597    -0.014604    ...      \n",
       "YEARS_BEGINEXPLUATATION_AVG        -0.003416     0.000418    ...      \n",
       "COMMONAREA_AVG                      0.000100    -0.035524    ...      \n",
       "LANDAREA_AVG                       -0.007496    -0.021657    ...      \n",
       "BASEMENTAREA_MODE                  -0.013192    -0.027320    ...      \n",
       "YEARS_BUILD_MODE                   -0.007169    -0.047274    ...      \n",
       "COMMONAREA_MODE                    -0.000012    -0.030161    ...      \n",
       "LANDAREA_MODE                      -0.008026    -0.019343    ...      \n",
       "LIVINGAREA_MODE                    -0.012096    -0.055302    ...      \n",
       "BASEMENTAREA_MEDI                  -0.014129    -0.032011    ...      \n",
       "COMMONAREA_MEDI                     0.000372    -0.035066    ...      \n",
       "LANDAREA_MEDI                      -0.007634    -0.021645    ...      \n",
       "LIVINGAREA_MEDI                    -0.011315    -0.059040    ...      \n",
       "TOTALAREA_MODE                     -0.011153    -0.061298    ...      \n",
       "DAYS_LAST_PHONE_CHANGE              0.088576     0.002506    ...      \n",
       "TARGET                              0.051457     0.037612    ...      \n",
       "\n",
       "                             COMMONAREA_MODE  LANDAREA_MODE  LIVINGAREA_MODE  \\\n",
       "AMT_INCOME_TOTAL                    0.075625      -0.003674         0.034915   \n",
       "AMT_CREDIT                          0.042341       0.002532         0.064142   \n",
       "AMT_ANNUITY                         0.049074       0.003621         0.079426   \n",
       "AMT_GOODS_PRICE                     0.043086       0.009379         0.069324   \n",
       "REGION_POPULATION_RELATIVE          0.130931      -0.060558         0.180932   \n",
       "DAYS_BIRTH                          0.009649       0.003800        -0.000020   \n",
       "DAYS_EMPLOYED                      -0.013041      -0.008758        -0.010847   \n",
       "DAYS_REGISTRATION                   0.029172       0.003354         0.007457   \n",
       "DAYS_ID_PUBLISH                    -0.000012      -0.008026        -0.012096   \n",
       "OWN_CAR_AGE                        -0.030161      -0.019343        -0.055302   \n",
       "EXT_SOURCE_1                        0.027538       0.002426         0.062046   \n",
       "EXT_SOURCE_2                        0.044244       0.017314         0.086026   \n",
       "EXT_SOURCE_3                       -0.002645       0.009398         0.005437   \n",
       "YEARS_BEGINEXPLUATATION_AVG         0.086286       0.070008         0.089123   \n",
       "COMMONAREA_AVG                      0.977147       0.244198         0.524186   \n",
       "LANDAREA_AVG                        0.267294       0.973696         0.501797   \n",
       "BASEMENTAREA_MODE                   0.407206       0.483333         0.690379   \n",
       "YEARS_BUILD_MODE                    0.227029       0.179273         0.345003   \n",
       "COMMONAREA_MODE                     1.000000       0.266000         0.537778   \n",
       "LANDAREA_MODE                       0.266000       1.000000         0.512531   \n",
       "LIVINGAREA_MODE                     0.537778       0.512531         1.000000   \n",
       "BASEMENTAREA_MEDI                   0.405356       0.465139         0.680549   \n",
       "COMMONAREA_MEDI                     0.979887       0.247307         0.527076   \n",
       "LANDAREA_MEDI                       0.269723       0.980835         0.505529   \n",
       "LIVINGAREA_MEDI                     0.538446       0.492422         0.974743   \n",
       "TOTALAREA_MODE                      0.543141       0.478382         0.899247   \n",
       "DAYS_LAST_PHONE_CHANGE             -0.001678      -0.001111        -0.009607   \n",
       "TARGET                             -0.016340      -0.010174        -0.030685   \n",
       "\n",
       "                             BASEMENTAREA_MEDI  COMMONAREA_MEDI  \\\n",
       "AMT_INCOME_TOTAL                      0.016381         0.087918   \n",
       "AMT_CREDIT                            0.037281         0.048565   \n",
       "AMT_ANNUITY                           0.042452         0.056865   \n",
       "AMT_GOODS_PRICE                       0.041980         0.049519   \n",
       "REGION_POPULATION_RELATIVE            0.094075         0.160275   \n",
       "DAYS_BIRTH                           -0.004345         0.009177   \n",
       "DAYS_EMPLOYED                        -0.001535        -0.013008   \n",
       "DAYS_REGISTRATION                    -0.021504         0.029250   \n",
       "DAYS_ID_PUBLISH                      -0.014129         0.000372   \n",
       "OWN_CAR_AGE                          -0.032011        -0.035066   \n",
       "EXT_SOURCE_1                          0.039494         0.032147   \n",
       "EXT_SOURCE_2                          0.046951         0.052269   \n",
       "EXT_SOURCE_3                          0.009349        -0.003321   \n",
       "YEARS_BEGINEXPLUATATION_AVG           0.085256         0.091667   \n",
       "COMMONAREA_AVG                        0.404549         0.995978   \n",
       "LANDAREA_AVG                          0.469117         0.259076   \n",
       "BASEMENTAREA_MODE                     0.977938         0.390932   \n",
       "YEARS_BUILD_MODE                      0.247907         0.230480   \n",
       "COMMONAREA_MODE                       0.405356         0.979887   \n",
       "LANDAREA_MODE                         0.465139         0.247307   \n",
       "LIVINGAREA_MODE                       0.680549         0.527076   \n",
       "BASEMENTAREA_MEDI                     1.000000         0.406662   \n",
       "COMMONAREA_MEDI                       0.406662         1.000000   \n",
       "LANDAREA_MEDI                         0.471900         0.260587   \n",
       "LIVINGAREA_MEDI                       0.691401         0.548119   \n",
       "TOTALAREA_MODE                        0.669398         0.552578   \n",
       "DAYS_LAST_PHONE_CHANGE               -0.007852        -0.003212   \n",
       "TARGET                               -0.022081        -0.018573   \n",
       "\n",
       "                             LANDAREA_MEDI  LIVINGAREA_MEDI  TOTALAREA_MODE  \\\n",
       "AMT_INCOME_TOTAL                 -0.001892         0.039261        0.041985   \n",
       "AMT_CREDIT                        0.005415         0.070860        0.072818   \n",
       "AMT_ANNUITY                       0.007711         0.088134        0.090415   \n",
       "AMT_GOODS_PRICE                   0.012550         0.076028        0.077527   \n",
       "REGION_POPULATION_RELATIVE       -0.052547         0.209347        0.202145   \n",
       "DAYS_BIRTH                        0.003341         0.000100        0.001329   \n",
       "DAYS_EMPLOYED                    -0.009627        -0.012631       -0.015126   \n",
       "DAYS_REGISTRATION                 0.002968         0.007926        0.019495   \n",
       "DAYS_ID_PUBLISH                  -0.007634        -0.011315       -0.011153   \n",
       "OWN_CAR_AGE                      -0.021645        -0.059040       -0.061298   \n",
       "EXT_SOURCE_1                      0.004992         0.067111        0.066227   \n",
       "EXT_SOURCE_2                      0.021227         0.096082        0.094687   \n",
       "EXT_SOURCE_3                      0.010725         0.005486        0.006232   \n",
       "YEARS_BEGINEXPLUATATION_AVG       0.074067         0.092175        0.100319   \n",
       "COMMONAREA_AVG                    0.258217         0.545501        0.553260   \n",
       "LANDAREA_AVG                      0.991610         0.501050        0.491091   \n",
       "BASEMENTAREA_MODE                 0.475090         0.673648        0.649274   \n",
       "YEARS_BUILD_MODE                  0.185102         0.353537        0.355718   \n",
       "COMMONAREA_MODE                   0.269723         0.538446        0.543141   \n",
       "LANDAREA_MODE                     0.980835         0.492422        0.478382   \n",
       "LIVINGAREA_MODE                   0.505529         0.974743        0.899247   \n",
       "BASEMENTAREA_MEDI                 0.471900         0.691401        0.669398   \n",
       "COMMONAREA_MEDI                   0.260587         0.548119        0.552578   \n",
       "LANDAREA_MEDI                     1.000000         0.503890        0.492559   \n",
       "LIVINGAREA_MEDI                   0.503890         1.000000        0.919363   \n",
       "TOTALAREA_MODE                    0.492559         0.919363        1.000000   \n",
       "DAYS_LAST_PHONE_CHANGE           -0.001241        -0.010795       -0.008283   \n",
       "TARGET                           -0.011256        -0.032739       -0.032596   \n",
       "\n",
       "                             DAYS_LAST_PHONE_CHANGE    TARGET  \n",
       "AMT_INCOME_TOTAL                          -0.018585 -0.003982  \n",
       "AMT_CREDIT                                -0.073701 -0.030369  \n",
       "AMT_ANNUITY                               -0.063747 -0.012817  \n",
       "AMT_GOODS_PRICE                           -0.076313 -0.039645  \n",
       "REGION_POPULATION_RELATIVE                -0.044013 -0.037227  \n",
       "DAYS_BIRTH                                 0.082939  0.078239  \n",
       "DAYS_EMPLOYED                              0.023032 -0.044932  \n",
       "DAYS_REGISTRATION                          0.056983  0.041975  \n",
       "DAYS_ID_PUBLISH                            0.088576  0.051457  \n",
       "OWN_CAR_AGE                                0.002506  0.037612  \n",
       "EXT_SOURCE_1                              -0.132607 -0.155317  \n",
       "EXT_SOURCE_2                              -0.195764 -0.160472  \n",
       "EXT_SOURCE_3                              -0.075256 -0.178919  \n",
       "YEARS_BEGINEXPLUATATION_AVG                0.002515 -0.009728  \n",
       "COMMONAREA_AVG                            -0.003536 -0.018550  \n",
       "LANDAREA_AVG                              -0.000581 -0.010885  \n",
       "BASEMENTAREA_MODE                         -0.006389 -0.019952  \n",
       "YEARS_BUILD_MODE                           0.011843 -0.022068  \n",
       "COMMONAREA_MODE                           -0.001678 -0.016340  \n",
       "LANDAREA_MODE                             -0.001111 -0.010174  \n",
       "LIVINGAREA_MODE                           -0.009607 -0.030685  \n",
       "BASEMENTAREA_MEDI                         -0.007852 -0.022081  \n",
       "COMMONAREA_MEDI                           -0.003212 -0.018573  \n",
       "LANDAREA_MEDI                             -0.001241 -0.011256  \n",
       "LIVINGAREA_MEDI                           -0.010795 -0.032739  \n",
       "TOTALAREA_MODE                            -0.008283 -0.032596  \n",
       "DAYS_LAST_PHONE_CHANGE                     1.000000  0.055218  \n",
       "TARGET                                     0.055218  1.000000  \n",
       "\n",
       "[28 rows x 28 columns]"
      ]
     },
     "execution_count": 7,
     "metadata": {},
     "output_type": "execute_result"
    }
   ],
   "source": [
    "df.corr()"
   ]
  },
  {
   "cell_type": "code",
   "execution_count": 8,
   "metadata": {},
   "outputs": [
    {
     "data": {
      "text/plain": [
       "count    307499.000000\n",
       "mean      27108.573909\n",
       "std       14493.737315\n",
       "min        1615.500000\n",
       "25%       16524.000000\n",
       "50%       24903.000000\n",
       "75%       34596.000000\n",
       "max      258025.500000\n",
       "Name: AMT_ANNUITY, dtype: float64"
      ]
     },
     "execution_count": 8,
     "metadata": {},
     "output_type": "execute_result"
    }
   ],
   "source": [
    "df['AMT_ANNUITY'].describe()"
   ]
  },
  {
   "cell_type": "code",
   "execution_count": 9,
   "metadata": {},
   "outputs": [],
   "source": [
    "df['AMT_ANNUITY'].fillna(27108.573909, inplace = True)"
   ]
  },
  {
   "cell_type": "code",
   "execution_count": 10,
   "metadata": {},
   "outputs": [
    {
     "data": {
      "text/plain": [
       "count    3.072330e+05\n",
       "mean     5.383962e+05\n",
       "std      3.694465e+05\n",
       "min      4.050000e+04\n",
       "25%      2.385000e+05\n",
       "50%      4.500000e+05\n",
       "75%      6.795000e+05\n",
       "max      4.050000e+06\n",
       "Name: AMT_GOODS_PRICE, dtype: float64"
      ]
     },
     "execution_count": 10,
     "metadata": {},
     "output_type": "execute_result"
    }
   ],
   "source": [
    "df['AMT_GOODS_PRICE'].describe()"
   ]
  },
  {
   "cell_type": "code",
   "execution_count": 11,
   "metadata": {},
   "outputs": [],
   "source": [
    "df['AMT_GOODS_PRICE'].fillna(538396.2, inplace = True)"
   ]
  },
  {
   "cell_type": "code",
   "execution_count": 12,
   "metadata": {},
   "outputs": [
    {
     "data": {
      "text/plain": [
       "count    104582.000000\n",
       "mean         12.061091\n",
       "std          11.944812\n",
       "min           0.000000\n",
       "25%           5.000000\n",
       "50%           9.000000\n",
       "75%          15.000000\n",
       "max          91.000000\n",
       "Name: OWN_CAR_AGE, dtype: float64"
      ]
     },
     "execution_count": 12,
     "metadata": {},
     "output_type": "execute_result"
    }
   ],
   "source": [
    "df['OWN_CAR_AGE'].describe()"
   ]
  },
  {
   "cell_type": "code",
   "execution_count": 13,
   "metadata": {},
   "outputs": [],
   "source": [
    "df['OWN_CAR_AGE'].fillna(9.000000, inplace = True)"
   ]
  },
  {
   "cell_type": "code",
   "execution_count": 14,
   "metadata": {},
   "outputs": [
    {
     "data": {
      "text/plain": [
       "0     9.0\n",
       "1     9.0\n",
       "2    26.0\n",
       "3     9.0\n",
       "4     9.0\n",
       "Name: OWN_CAR_AGE, dtype: float64"
      ]
     },
     "execution_count": 14,
     "metadata": {},
     "output_type": "execute_result"
    }
   ],
   "source": [
    "df['OWN_CAR_AGE'].iloc[:5]"
   ]
  },
  {
   "cell_type": "code",
   "execution_count": 15,
   "metadata": {},
   "outputs": [
    {
     "data": {
      "text/plain": [
       "count    134133.000000\n",
       "mean          0.502130\n",
       "std           0.211062\n",
       "min           0.014568\n",
       "25%           0.334007\n",
       "50%           0.505998\n",
       "75%           0.675053\n",
       "max           0.962693\n",
       "Name: EXT_SOURCE_1, dtype: float64"
      ]
     },
     "execution_count": 15,
     "metadata": {},
     "output_type": "execute_result"
    }
   ],
   "source": [
    "df['EXT_SOURCE_1'].describe()"
   ]
  },
  {
   "cell_type": "code",
   "execution_count": 16,
   "metadata": {},
   "outputs": [],
   "source": [
    "df['EXT_SOURCE_1'].fillna(0.505998, inplace=True)"
   ]
  },
  {
   "cell_type": "code",
   "execution_count": 17,
   "metadata": {},
   "outputs": [
    {
     "data": {
      "text/plain": [
       "count    3.068510e+05\n",
       "mean     5.143927e-01\n",
       "std      1.910602e-01\n",
       "min      8.173617e-08\n",
       "25%      3.924574e-01\n",
       "50%      5.659614e-01\n",
       "75%      6.636171e-01\n",
       "max      8.549997e-01\n",
       "Name: EXT_SOURCE_2, dtype: float64"
      ]
     },
     "execution_count": 17,
     "metadata": {},
     "output_type": "execute_result"
    }
   ],
   "source": [
    "df['EXT_SOURCE_2'].describe()"
   ]
  },
  {
   "cell_type": "code",
   "execution_count": 18,
   "metadata": {},
   "outputs": [],
   "source": [
    "df['EXT_SOURCE_2'].fillna(0.5143927, inplace=True)"
   ]
  },
  {
   "cell_type": "code",
   "execution_count": 19,
   "metadata": {},
   "outputs": [
    {
     "data": {
      "text/plain": [
       "count    246546.000000\n",
       "mean          0.510853\n",
       "std           0.194844\n",
       "min           0.000527\n",
       "25%           0.370650\n",
       "50%           0.535276\n",
       "75%           0.669057\n",
       "max           0.896010\n",
       "Name: EXT_SOURCE_3, dtype: float64"
      ]
     },
     "execution_count": 19,
     "metadata": {},
     "output_type": "execute_result"
    }
   ],
   "source": [
    "df['EXT_SOURCE_3'].describe()"
   ]
  },
  {
   "cell_type": "code",
   "execution_count": 20,
   "metadata": {},
   "outputs": [],
   "source": [
    "df['EXT_SOURCE_3'].fillna(0.510853, inplace=True)"
   ]
  },
  {
   "cell_type": "code",
   "execution_count": 21,
   "metadata": {},
   "outputs": [
    {
     "data": {
      "text/plain": [
       "count    157504.000000\n",
       "mean          0.977735\n",
       "std           0.059223\n",
       "min           0.000000\n",
       "25%           0.976700\n",
       "50%           0.981600\n",
       "75%           0.986600\n",
       "max           1.000000\n",
       "Name: YEARS_BEGINEXPLUATATION_AVG, dtype: float64"
      ]
     },
     "execution_count": 21,
     "metadata": {},
     "output_type": "execute_result"
    }
   ],
   "source": [
    "df['YEARS_BEGINEXPLUATATION_AVG'].describe()"
   ]
  },
  {
   "cell_type": "code",
   "execution_count": 22,
   "metadata": {},
   "outputs": [],
   "source": [
    "df['YEARS_BEGINEXPLUATATION_AVG'].fillna(0.977735, inplace=True)"
   ]
  },
  {
   "cell_type": "code",
   "execution_count": 23,
   "metadata": {},
   "outputs": [
    {
     "data": {
      "text/plain": [
       "count    92646.000000\n",
       "mean         0.044621\n",
       "std          0.076036\n",
       "min          0.000000\n",
       "25%          0.007800\n",
       "50%          0.021100\n",
       "75%          0.051500\n",
       "max          1.000000\n",
       "Name: COMMONAREA_AVG, dtype: float64"
      ]
     },
     "execution_count": 23,
     "metadata": {},
     "output_type": "execute_result"
    }
   ],
   "source": [
    "df['COMMONAREA_AVG'].describe()"
   ]
  },
  {
   "cell_type": "code",
   "execution_count": 24,
   "metadata": {},
   "outputs": [],
   "source": [
    "df['COMMONAREA_AVG'].fillna(0.021100, inplace=True)"
   ]
  },
  {
   "cell_type": "code",
   "execution_count": 25,
   "metadata": {},
   "outputs": [
    {
     "data": {
      "text/plain": [
       "count    124921.000000\n",
       "mean          0.066333\n",
       "std           0.081184\n",
       "min           0.000000\n",
       "25%           0.018700\n",
       "50%           0.048100\n",
       "75%           0.085600\n",
       "max           1.000000\n",
       "Name: LANDAREA_AVG, dtype: float64"
      ]
     },
     "execution_count": 25,
     "metadata": {},
     "output_type": "execute_result"
    }
   ],
   "source": [
    "df['LANDAREA_AVG'].describe()"
   ]
  },
  {
   "cell_type": "code",
   "execution_count": 26,
   "metadata": {},
   "outputs": [],
   "source": [
    "df['LANDAREA_AVG'].fillna(0.048100, inplace=True)"
   ]
  },
  {
   "cell_type": "code",
   "execution_count": 27,
   "metadata": {},
   "outputs": [
    {
     "data": {
      "text/plain": [
       "count    127568.000000\n",
       "mean          0.087543\n",
       "std           0.084307\n",
       "min           0.000000\n",
       "25%           0.040700\n",
       "50%           0.074600\n",
       "75%           0.112400\n",
       "max           1.000000\n",
       "Name: BASEMENTAREA_MODE, dtype: float64"
      ]
     },
     "execution_count": 27,
     "metadata": {},
     "output_type": "execute_result"
    }
   ],
   "source": [
    "df['BASEMENTAREA_MODE'].describe()"
   ]
  },
  {
   "cell_type": "code",
   "execution_count": 28,
   "metadata": {},
   "outputs": [
    {
     "data": {
      "text/plain": [
       "0.0000    16598\n",
       "0.0566      269\n",
       "0.0849      265\n",
       "0.0642      253\n",
       "0.0830      251\n",
       "0.1132      243\n",
       "0.0792      241\n",
       "0.0826      238\n",
       "0.0679      222\n",
       "0.0755      215\n",
       "0.0840      208\n",
       "0.0660      205\n",
       "0.1038      205\n",
       "0.0823      199\n",
       "0.0425      199\n",
       "0.0858      191\n",
       "0.0613      190\n",
       "0.0828      186\n",
       "0.0651      185\n",
       "0.0825      184\n",
       "0.0836      181\n",
       "0.0736      181\n",
       "0.0827      175\n",
       "0.0835      174\n",
       "0.0834      173\n",
       "0.0811      173\n",
       "0.0821      173\n",
       "0.0585      173\n",
       "0.0647      169\n",
       "0.0943      169\n",
       "          ...  \n",
       "0.2399        1\n",
       "0.3026        1\n",
       "0.2960        1\n",
       "0.5396        1\n",
       "0.7753        1\n",
       "0.7547        1\n",
       "0.4087        1\n",
       "0.3613        1\n",
       "0.2701        1\n",
       "0.3367        1\n",
       "0.3946        1\n",
       "0.4321        1\n",
       "0.2364        1\n",
       "0.2726        1\n",
       "0.2742        1\n",
       "0.3503        1\n",
       "0.3424        1\n",
       "0.3213        1\n",
       "0.3178        1\n",
       "0.4449        1\n",
       "0.2861        1\n",
       "0.3677        1\n",
       "0.3002        1\n",
       "0.4272        1\n",
       "0.4906        1\n",
       "0.3863        1\n",
       "0.3144        1\n",
       "0.3315        1\n",
       "0.2876        1\n",
       "0.3351        1\n",
       "Name: BASEMENTAREA_MODE, Length: 3841, dtype: int64"
      ]
     },
     "execution_count": 28,
     "metadata": {},
     "output_type": "execute_result"
    }
   ],
   "source": [
    "df['BASEMENTAREA_MODE'].value_counts()"
   ]
  },
  {
   "cell_type": "code",
   "execution_count": 29,
   "metadata": {},
   "outputs": [],
   "source": [
    "df['BASEMENTAREA_MODE'].fillna(0.074600, inplace=True)"
   ]
  },
  {
   "cell_type": "code",
   "execution_count": 30,
   "metadata": {},
   "outputs": [
    {
     "data": {
      "text/plain": [
       "count    103023.000000\n",
       "mean          0.759637\n",
       "std           0.110111\n",
       "min           0.000000\n",
       "25%           0.699400\n",
       "50%           0.764800\n",
       "75%           0.823600\n",
       "max           1.000000\n",
       "Name: YEARS_BUILD_MODE, dtype: float64"
      ]
     },
     "execution_count": 30,
     "metadata": {},
     "output_type": "execute_result"
    }
   ],
   "source": [
    "df['YEARS_BUILD_MODE'].describe()"
   ]
  },
  {
   "cell_type": "code",
   "execution_count": 31,
   "metadata": {},
   "outputs": [],
   "source": [
    "df['YEARS_BUILD_MODE'].fillna(0.759637, inplace = True)"
   ]
  },
  {
   "cell_type": "code",
   "execution_count": 32,
   "metadata": {},
   "outputs": [
    {
     "data": {
      "text/plain": [
       "count    92646.000000\n",
       "mean         0.042553\n",
       "std          0.074445\n",
       "min          0.000000\n",
       "25%          0.007200\n",
       "50%          0.019000\n",
       "75%          0.049000\n",
       "max          1.000000\n",
       "Name: COMMONAREA_MODE, dtype: float64"
      ]
     },
     "execution_count": 32,
     "metadata": {},
     "output_type": "execute_result"
    }
   ],
   "source": [
    "df['COMMONAREA_MODE'].describe()"
   ]
  },
  {
   "cell_type": "code",
   "execution_count": 33,
   "metadata": {},
   "outputs": [],
   "source": [
    "df['COMMONAREA_MODE'].fillna(0.019000, inplace = True)"
   ]
  },
  {
   "cell_type": "code",
   "execution_count": 34,
   "metadata": {},
   "outputs": [
    {
     "data": {
      "text/plain": [
       "count    124921.000000\n",
       "mean          0.064958\n",
       "std           0.081750\n",
       "min           0.000000\n",
       "25%           0.016600\n",
       "50%           0.045800\n",
       "75%           0.084100\n",
       "max           1.000000\n",
       "Name: LANDAREA_MODE, dtype: float64"
      ]
     },
     "execution_count": 34,
     "metadata": {},
     "output_type": "execute_result"
    }
   ],
   "source": [
    "df['LANDAREA_MODE'].describe()"
   ]
  },
  {
   "cell_type": "code",
   "execution_count": 35,
   "metadata": {},
   "outputs": [],
   "source": [
    "df['LANDAREA_MODE'].fillna(0.045800, inplace = True)"
   ]
  },
  {
   "cell_type": "code",
   "execution_count": 36,
   "metadata": {},
   "outputs": [
    {
     "data": {
      "text/plain": [
       "count    153161.000000\n",
       "mean          0.105975\n",
       "std           0.111845\n",
       "min           0.000000\n",
       "25%           0.042700\n",
       "50%           0.073100\n",
       "75%           0.125200\n",
       "max           1.000000\n",
       "Name: LIVINGAREA_MODE, dtype: float64"
      ]
     },
     "execution_count": 36,
     "metadata": {},
     "output_type": "execute_result"
    }
   ],
   "source": [
    "df['LIVINGAREA_MODE'].describe()"
   ]
  },
  {
   "cell_type": "code",
   "execution_count": 37,
   "metadata": {},
   "outputs": [],
   "source": [
    "df['LIVINGAREA_MODE'].fillna(0.073100, inplace = True)"
   ]
  },
  {
   "cell_type": "code",
   "execution_count": 38,
   "metadata": {},
   "outputs": [
    {
     "data": {
      "text/plain": [
       "count    127568.000000\n",
       "mean          0.087955\n",
       "std           0.082179\n",
       "min           0.000000\n",
       "25%           0.043700\n",
       "50%           0.075800\n",
       "75%           0.111600\n",
       "max           1.000000\n",
       "Name: BASEMENTAREA_MEDI, dtype: float64"
      ]
     },
     "execution_count": 38,
     "metadata": {},
     "output_type": "execute_result"
    }
   ],
   "source": [
    "df['BASEMENTAREA_MEDI'].describe()"
   ]
  },
  {
   "cell_type": "code",
   "execution_count": 39,
   "metadata": {},
   "outputs": [],
   "source": [
    "df['BASEMENTAREA_MEDI'].fillna(0.075800, inplace = True)"
   ]
  },
  {
   "cell_type": "code",
   "execution_count": 40,
   "metadata": {},
   "outputs": [
    {
     "data": {
      "text/plain": [
       "count    92646.000000\n",
       "mean         0.044595\n",
       "std          0.076144\n",
       "min          0.000000\n",
       "25%          0.007900\n",
       "50%          0.020800\n",
       "75%          0.051300\n",
       "max          1.000000\n",
       "Name: COMMONAREA_MEDI, dtype: float64"
      ]
     },
     "execution_count": 40,
     "metadata": {},
     "output_type": "execute_result"
    }
   ],
   "source": [
    "df['COMMONAREA_MEDI'].describe()"
   ]
  },
  {
   "cell_type": "code",
   "execution_count": 41,
   "metadata": {},
   "outputs": [],
   "source": [
    "df['COMMONAREA_MEDI'].fillna(0.020800, inplace = True)"
   ]
  },
  {
   "cell_type": "code",
   "execution_count": 42,
   "metadata": {},
   "outputs": [
    {
     "data": {
      "text/plain": [
       "count    124921.000000\n",
       "mean          0.067169\n",
       "std           0.082167\n",
       "min           0.000000\n",
       "25%           0.018700\n",
       "50%           0.048700\n",
       "75%           0.086800\n",
       "max           1.000000\n",
       "Name: LANDAREA_MEDI, dtype: float64"
      ]
     },
     "execution_count": 42,
     "metadata": {},
     "output_type": "execute_result"
    }
   ],
   "source": [
    "df['LANDAREA_MEDI'].describe()"
   ]
  },
  {
   "cell_type": "code",
   "execution_count": 43,
   "metadata": {},
   "outputs": [],
   "source": [
    "df['LANDAREA_MEDI'].fillna(0.048700, inplace = True)"
   ]
  },
  {
   "cell_type": "code",
   "execution_count": 44,
   "metadata": {},
   "outputs": [
    {
     "data": {
      "text/plain": [
       "count    153161.000000\n",
       "mean          0.108607\n",
       "std           0.112260\n",
       "min           0.000000\n",
       "25%           0.045700\n",
       "50%           0.074900\n",
       "75%           0.130300\n",
       "max           1.000000\n",
       "Name: LIVINGAREA_MEDI, dtype: float64"
      ]
     },
     "execution_count": 44,
     "metadata": {},
     "output_type": "execute_result"
    }
   ],
   "source": [
    "df['LIVINGAREA_MEDI'].describe()"
   ]
  },
  {
   "cell_type": "code",
   "execution_count": 45,
   "metadata": {},
   "outputs": [],
   "source": [
    "df['LIVINGAREA_MEDI'].fillna(0.074900, inplace = True)"
   ]
  },
  {
   "cell_type": "code",
   "execution_count": 46,
   "metadata": {},
   "outputs": [
    {
     "data": {
      "text/plain": [
       "count    159080.000000\n",
       "mean          0.102547\n",
       "std           0.107462\n",
       "min           0.000000\n",
       "25%           0.041200\n",
       "50%           0.068800\n",
       "75%           0.127600\n",
       "max           1.000000\n",
       "Name: TOTALAREA_MODE, dtype: float64"
      ]
     },
     "execution_count": 46,
     "metadata": {},
     "output_type": "execute_result"
    }
   ],
   "source": [
    "df['TOTALAREA_MODE'].describe()"
   ]
  },
  {
   "cell_type": "code",
   "execution_count": 47,
   "metadata": {},
   "outputs": [],
   "source": [
    "df['TOTALAREA_MODE'].fillna(0.068800, inplace = True)"
   ]
  },
  {
   "cell_type": "code",
   "execution_count": 48,
   "metadata": {},
   "outputs": [
    {
     "data": {
      "text/plain": [
       "count    307510.000000\n",
       "mean       -962.858788\n",
       "std         826.808487\n",
       "min       -4292.000000\n",
       "25%       -1570.000000\n",
       "50%        -757.000000\n",
       "75%        -274.000000\n",
       "max           0.000000\n",
       "Name: DAYS_LAST_PHONE_CHANGE, dtype: float64"
      ]
     },
     "execution_count": 48,
     "metadata": {},
     "output_type": "execute_result"
    }
   ],
   "source": [
    "df['DAYS_LAST_PHONE_CHANGE'].describe()"
   ]
  },
  {
   "cell_type": "code",
   "execution_count": 49,
   "metadata": {},
   "outputs": [],
   "source": [
    "df['DAYS_LAST_PHONE_CHANGE'].fillna(-757.000000, inplace = True)"
   ]
  },
  {
   "cell_type": "code",
   "execution_count": 55,
   "metadata": {},
   "outputs": [],
   "source": [
    "df1 = df[:70000]"
   ]
  },
  {
   "cell_type": "code",
   "execution_count": 56,
   "metadata": {},
   "outputs": [
    {
     "data": {
      "text/plain": [
       "(70000, 28)"
      ]
     },
     "execution_count": 56,
     "metadata": {},
     "output_type": "execute_result"
    }
   ],
   "source": [
    "df1.shape"
   ]
  },
  {
   "cell_type": "code",
   "execution_count": 57,
   "metadata": {},
   "outputs": [],
   "source": [
    "X = df1.iloc[:,:27]\n",
    "Y = df1.loc[:,'TARGET']"
   ]
  },
  {
   "cell_type": "code",
   "execution_count": 58,
   "metadata": {},
   "outputs": [],
   "source": [
    "from sklearn.preprocessing import StandardScaler\n",
    "from sklearn.model_selection import train_test_split"
   ]
  },
  {
   "cell_type": "code",
   "execution_count": 59,
   "metadata": {},
   "outputs": [],
   "source": [
    "sc = StandardScaler()"
   ]
  },
  {
   "cell_type": "code",
   "execution_count": 60,
   "metadata": {},
   "outputs": [],
   "source": [
    "X_ = sc.fit_transform(X)"
   ]
  },
  {
   "cell_type": "code",
   "execution_count": 61,
   "metadata": {},
   "outputs": [],
   "source": [
    "X_train,X_test,Y_train,Y_test = train_test_split(X_,Y, test_size=.2,random_state = 0)"
   ]
  },
  {
   "cell_type": "code",
   "execution_count": 62,
   "metadata": {},
   "outputs": [],
   "source": [
    "from sklearn.ensemble import RandomForestClassifier\n",
    "from sklearn.model_selection import GridSearchCV\n",
    "from sklearn.model_selection import cross_val_score\n",
    "from sklearn.metrics import recall_score,precision_score,confusion_matrix,accuracy_score,f1_score"
   ]
  },
  {
   "cell_type": "code",
   "execution_count": 63,
   "metadata": {},
   "outputs": [],
   "source": [
    "param_grid = {\n",
    "    'bootstrap': [True],\n",
    "    'max_depth': [30,50,70,],\n",
    "    'max_features': [3, 5, 7,],\n",
    "    'min_samples_leaf': [3, 5, 7],\n",
    "    'min_samples_split': [8, 10, 12],\n",
    "    'n_estimators': [1500, 2000]\n",
    "}\n",
    "# Create a based model\n",
    "rf = RandomForestClassifier()\n",
    "# Instantiate the grid search model\n",
    "grid_search = GridSearchCV(estimator = rf, param_grid = param_grid, \n",
    "                          cv = 3, n_jobs = -1, verbose = 2)"
   ]
  },
  {
   "cell_type": "code",
   "execution_count": null,
   "metadata": {
    "scrolled": true
   },
   "outputs": [],
   "source": [
    "# RF = RandomForestClassifier(n_estimators=2000,bootstrap=True,max_depth= 50,max_features= 5,min_samples_leaf= 5,\n",
    "#                           min_samples_split= 15, oob_score=True,verbose=2,random_state=52, n_jobs = -1)\n",
    "# RF.fit(X_train,Y_train.values.ravel())\n",
    "# scores = cross_val_score(RF, X_train, Y_train.values.ravel(), cv=10)"
   ]
  },
  {
   "cell_type": "code",
   "execution_count": null,
   "metadata": {},
   "outputs": [
    {
     "name": "stdout",
     "output_type": "stream",
     "text": [
      "Fitting 3 folds for each of 162 candidates, totalling 486 fits\n"
     ]
    },
    {
     "name": "stderr",
     "output_type": "stream",
     "text": [
      "[Parallel(n_jobs=-1)]: Done  33 tasks      | elapsed: 70.2min\n",
      "[Parallel(n_jobs=-1)]: Done 154 tasks      | elapsed: 452.7min\n"
     ]
    }
   ],
   "source": [
    "grid_search.fit(X_train, Y_train)"
   ]
  },
  {
   "cell_type": "code",
   "execution_count": null,
   "metadata": {},
   "outputs": [],
   "source": [
    "Y_pred = grid_search2.predict(X_test)"
   ]
  },
  {
   "cell_type": "code",
   "execution_count": null,
   "metadata": {},
   "outputs": [],
   "source": [
    "p_s = precision_score(Y_test,Y_pred)\n",
    "r_s = recall_score(Y_test,Y_pred)\n",
    "cm = confusion_matrix(Y_test,Y_pred)\n",
    "f1 = f1_score(Y_test,Y_pred)\n",
    "acc = accuracy_score(Y_test,Y_pred)"
   ]
  },
  {
   "cell_type": "code",
   "execution_count": null,
   "metadata": {},
   "outputs": [],
   "source": [
    "p_s"
   ]
  },
  {
   "cell_type": "code",
   "execution_count": null,
   "metadata": {},
   "outputs": [],
   "source": [
    "r_s"
   ]
  },
  {
   "cell_type": "code",
   "execution_count": null,
   "metadata": {},
   "outputs": [],
   "source": [
    "cm"
   ]
  },
  {
   "cell_type": "code",
   "execution_count": null,
   "metadata": {},
   "outputs": [],
   "source": [
    "f1"
   ]
  },
  {
   "cell_type": "code",
   "execution_count": null,
   "metadata": {},
   "outputs": [],
   "source": [
    "acc"
   ]
  },
  {
   "cell_type": "code",
   "execution_count": null,
   "metadata": {},
   "outputs": [],
   "source": [
    "test = pd.read_csv(\"application_test.csv\")"
   ]
  },
  {
   "cell_type": "code",
   "execution_count": null,
   "metadata": {},
   "outputs": [],
   "source": [
    "df_1 = test.loc[:,['AMT_INCOME_TOTAL', 'AMT_CREDIT', 'AMT_ANNUITY', 'AMT_GOODS_PRICE',\n",
    "       'REGION_POPULATION_RELATIVE', 'DAYS_BIRTH', 'DAYS_EMPLOYED',\n",
    "       'DAYS_REGISTRATION', 'DAYS_ID_PUBLISH', 'OWN_CAR_AGE', 'EXT_SOURCE_1',\n",
    "       'EXT_SOURCE_2', 'EXT_SOURCE_3', 'YEARS_BEGINEXPLUATATION_AVG',\n",
    "       'COMMONAREA_AVG', 'LANDAREA_AVG', 'BASEMENTAREA_MODE',\n",
    "       'YEARS_BUILD_MODE', 'COMMONAREA_MODE', 'LANDAREA_MODE',\n",
    "       'LIVINGAREA_MODE', 'BASEMENTAREA_MEDI', 'COMMONAREA_MEDI',\n",
    "       'LANDAREA_MEDI', 'LIVINGAREA_MEDI', 'TOTALAREA_MODE',\n",
    "       'DAYS_LAST_PHONE_CHANGE','TARGET']]"
   ]
  },
  {
   "cell_type": "code",
   "execution_count": null,
   "metadata": {
    "scrolled": true
   },
   "outputs": [],
   "source": [
    "df_1.isnull().sum()"
   ]
  },
  {
   "cell_type": "code",
   "execution_count": null,
   "metadata": {},
   "outputs": [],
   "source": [
    "df_1['AMT_ANNUITY'].fillna(27108.573909, inplace = True)"
   ]
  },
  {
   "cell_type": "code",
   "execution_count": null,
   "metadata": {},
   "outputs": [],
   "source": [
    "df_1['OWN_CAR_AGE'].fillna(9.000000, inplace = True)"
   ]
  },
  {
   "cell_type": "code",
   "execution_count": null,
   "metadata": {},
   "outputs": [],
   "source": [
    "df_1['EXT_SOURCE_1'].fillna(0.505998, inplace=True)"
   ]
  },
  {
   "cell_type": "code",
   "execution_count": null,
   "metadata": {},
   "outputs": [],
   "source": [
    "df_1['EXT_SOURCE_2'].fillna(0.5143927, inplace=True)"
   ]
  },
  {
   "cell_type": "code",
   "execution_count": null,
   "metadata": {},
   "outputs": [],
   "source": [
    "df_1['EXT_SOURCE_3'].fillna(0.510853, inplace=True)"
   ]
  },
  {
   "cell_type": "code",
   "execution_count": null,
   "metadata": {},
   "outputs": [],
   "source": [
    "df_1['YEARS_BEGINEXPLUATATION_AVG'].fillna(0.977735, inplace=True)"
   ]
  },
  {
   "cell_type": "code",
   "execution_count": null,
   "metadata": {},
   "outputs": [],
   "source": [
    "df_1['COMMONAREA_AVG'].fillna(0.021100, inplace=True)"
   ]
  },
  {
   "cell_type": "code",
   "execution_count": null,
   "metadata": {},
   "outputs": [],
   "source": [
    "df_1['LANDAREA_AVG'].fillna(0.048100, inplace=True)"
   ]
  },
  {
   "cell_type": "code",
   "execution_count": null,
   "metadata": {},
   "outputs": [],
   "source": [
    "df_1['BASEMENTAREA_MODE'].fillna(0.074600, inplace=True)"
   ]
  },
  {
   "cell_type": "code",
   "execution_count": null,
   "metadata": {},
   "outputs": [],
   "source": [
    "df_1['YEARS_BUILD_MODE'].fillna(0.759637, inplace = True)"
   ]
  },
  {
   "cell_type": "code",
   "execution_count": null,
   "metadata": {},
   "outputs": [],
   "source": [
    "df_1['COMMONAREA_MODE'].fillna(0.019000, inplace = True)"
   ]
  },
  {
   "cell_type": "code",
   "execution_count": null,
   "metadata": {},
   "outputs": [],
   "source": [
    "df_1['LANDAREA_MODE'].fillna(0.045800, inplace = True)"
   ]
  },
  {
   "cell_type": "code",
   "execution_count": null,
   "metadata": {},
   "outputs": [],
   "source": [
    "df_1['LIVINGAREA_MODE'].fillna(0.073100, inplace = True)"
   ]
  },
  {
   "cell_type": "code",
   "execution_count": null,
   "metadata": {},
   "outputs": [],
   "source": [
    "df_1['BASEMENTAREA_MEDI'].fillna(0.075800, inplace = True)"
   ]
  },
  {
   "cell_type": "code",
   "execution_count": null,
   "metadata": {},
   "outputs": [],
   "source": [
    "df_1['COMMONAREA_MEDI'].fillna(0.020800, inplace = True)"
   ]
  },
  {
   "cell_type": "code",
   "execution_count": null,
   "metadata": {},
   "outputs": [],
   "source": [
    "df_1['LANDAREA_MEDI'].fillna(0.048700, inplace = True)"
   ]
  },
  {
   "cell_type": "code",
   "execution_count": null,
   "metadata": {},
   "outputs": [],
   "source": [
    "df_1['LIVINGAREA_MEDI'].fillna(0.074900, inplace = True)"
   ]
  },
  {
   "cell_type": "code",
   "execution_count": null,
   "metadata": {},
   "outputs": [],
   "source": [
    "df_1['TOTALAREA_MODE'].fillna(0.068800, inplace = True)"
   ]
  },
  {
   "cell_type": "code",
   "execution_count": null,
   "metadata": {},
   "outputs": [],
   "source": [
    "df_1['DAYS_LAST_PHONE_CHANGE'].fillna(-757.000000, inplace = True)"
   ]
  },
  {
   "cell_type": "code",
   "execution_count": null,
   "metadata": {},
   "outputs": [],
   "source": [
    "test.head(1)"
   ]
  },
  {
   "cell_type": "code",
   "execution_count": null,
   "metadata": {},
   "outputs": [],
   "source": [
    "RF.fit(X_train, Y_train.values.ravel())\n",
    "TARGET = RF.predict(df_1)"
   ]
  },
  {
   "cell_type": "code",
   "execution_count": null,
   "metadata": {},
   "outputs": [],
   "source": [
    "pd.DataFrame({\"SK_ID_CURR\":test.SK_ID_CURR , \"TARGET\":TARGET}).set_index(\"employee_id\").to_csv(\"submission.csv\")"
   ]
  }
 ],
 "metadata": {
  "kernelspec": {
   "display_name": "Python 3",
   "language": "python",
   "name": "python3"
  },
  "language_info": {
   "codemirror_mode": {
    "name": "ipython",
    "version": 3
   },
   "file_extension": ".py",
   "mimetype": "text/x-python",
   "name": "python",
   "nbconvert_exporter": "python",
   "pygments_lexer": "ipython3",
   "version": "3.6.5"
  }
 },
 "nbformat": 4,
 "nbformat_minor": 2
}
